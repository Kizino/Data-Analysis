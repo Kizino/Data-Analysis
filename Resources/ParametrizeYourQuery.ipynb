{
 "cells": [
  {
   "cell_type": "markdown",
   "metadata": {},
   "source": [
    " # Kqlmagic  - __parametrization__ features\n",
    "***\n",
    "Explains how to emebed python values in kql queries\n",
    "***\n",
    "***\n",
    "\n"
   ]
  },
  {
   "cell_type": "markdown",
   "metadata": {},
   "source": [
    "## Make sure that you have the lastest version of  Kqlmagic\n",
    "Download Kqlmagic from PyPI and install/update\n",
    "(if latest version ims already installed you can skip this step)"
   ]
  },
  {
   "cell_type": "code",
   "execution_count": 1,
   "metadata": {},
   "outputs": [],
   "source": [
    "#!pip install Kqlmagic --no-cache-dir --upgrade"
   ]
  },
  {
   "cell_type": "markdown",
   "metadata": {},
   "source": [
    "## Add Kqlmagic to notebook magics"
   ]
  },
  {
   "cell_type": "code",
   "execution_count": 2,
   "metadata": {},
   "outputs": [
    {
     "data": {
      "application/javascript": [
       "try {IPython.notebook.kernel.reconnect();} catch(err) {;}"
      ],
      "text/plain": [
       "<IPython.core.display.Javascript object>"
      ]
     },
     "metadata": {},
     "output_type": "display_data"
    },
    {
     "data": {
      "application/javascript": [
       "try {IPython.notebook.kernel.execute(\"NOTEBOOK_URL = '\" + window.location + \"'\");} catch(err) {;}"
      ],
      "text/plain": [
       "<IPython.core.display.Javascript object>"
      ]
     },
     "metadata": {},
     "output_type": "display_data"
    },
    {
     "data": {
      "text/html": [
       "<!DOCTYPE html>\n",
       "            <html>\n",
       "            <head>\n",
       "            <title>Kqlmagic - banner</title>\n",
       "            <style>\n",
       "            .kql-magic-banner {\n",
       "                display: flex; \n",
       "                background-color: #d9edf7;\n",
       "            }\n",
       "            .kql-magic-banner > div {\n",
       "                margin: 10px; \n",
       "                padding: 20px; \n",
       "                color: #3a87ad; \n",
       "                font-size: 13px;\n",
       "            }\n",
       "            </style>\n",
       "            </head>\n",
       "            <body>\n",
       "                <div class='kql-magic-banner'>\n",
       "                    <div><img src='data:image/png;base64,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'></div>\n",
       "                    <div>\n",
       "                        <p>Kql Query Language, aka kql, is the query language for advanced analytics on Azure Monitor resources. The current supported data sources are \n",
       "                        Azure Data Explorer (Kusto), Log Analytics and Application Insights. To get more information execute '%kql --help \"kql\"'</p>\n",
       "                        <p>   \n",
       "                          &bull; \n",
       "                kql reference: Click on 'Help' tab > and Select 'kql reference' or execute '%kql --help \"kql\"'<br>\n",
       "                          &bull; \n",
       "                Kqlmagic configuration: execute '%config Kqlmagic'<br>\n",
       "                          &bull; \n",
       "                Kqlmagic usage: execute '%kql --usage'<br>\n",
       "                          &bull; \n",
       "                To report bug/issue: execute '%kql --bug-report'<br>                \n",
       "                        </p> \n",
       "                    </div>\n",
       "                </div>\n",
       "            </body>\n",
       "            </html>"
      ],
      "text/plain": [
       "<IPython.core.display.HTML object>"
      ]
     },
     "metadata": {},
     "output_type": "display_data"
    },
    {
     "data": {
      "text/html": [
       "<html>\n",
       "        <head>\n",
       "            \n",
       "            \n",
       "        </head>\n",
       "        <body>\n",
       "            <div><p style=' padding: 10px; color: #3a87ad; background-color: #d9edf7; border-color: #bce9f1'>Kqlmagic&nbsp;package&nbsp;is&nbsp;updated&nbsp;frequently.&nbsp;Run&nbsp;&apos;!pip&nbsp;install&nbsp;Kqlmagic&nbsp;--no-cache-dir&nbsp;--upgrade&apos;&nbsp;to&nbsp;use&nbsp;the&nbsp;latest&nbsp;version.<br>Kqlmagic&nbsp;version:&nbsp;0.1.114.post22,&nbsp;source:&nbsp;https://github.com/Microsoft/jupyter-Kqlmagic</p></div>\n",
       "        </body>\n",
       "        </html>"
      ],
      "text/plain": [
       "<IPython.core.display.HTML object>"
      ]
     },
     "metadata": {},
     "output_type": "display_data"
    }
   ],
   "source": [
    "%reload_ext Kqlmagic"
   ]
  },
  {
   "cell_type": "markdown",
   "metadata": {},
   "source": [
    "## Authenticate to get access to data"
   ]
  },
  {
   "cell_type": "code",
   "execution_count": 3,
   "metadata": {},
   "outputs": [
    {
     "data": {
      "text/html": [
       "<!DOCTYPE html>\n",
       "                            <html><body><script>\n",
       "\n",
       "                                // close authentication window\n",
       "                                if (kql_MagicUserCodeAuthWindow && kql_MagicUserCodeAuthWindow.opener != null && !kql_MagicUserCodeAuthWindow.closed) {\n",
       "                                    kql_MagicUserCodeAuthWindow.close()\n",
       "                                }\n",
       "                                // TODO: make sure, you clear the right cell. BTW, not sure it is a must to do any clearing\n",
       "\n",
       "                                // clear output cell\n",
       "                                Jupyter.notebook.clear_output(Jupyter.notebook.get_selected_index())\n",
       "\n",
       "                                // TODO: if in run all mode, move to last cell, otherwise move to next cell\n",
       "                                // move to next cell\n",
       "\n",
       "                            </script></body></html>"
      ],
      "text/plain": [
       "<IPython.core.display.HTML object>"
      ]
     },
     "metadata": {},
     "output_type": "display_data"
    },
    {
     "data": {
      "text/html": [
       "<!DOCTYPE html>\n",
       "            <html><body>\n",
       "            <div style=''>\n",
       "            \n",
       "            <button onclick=\"this.style.visibility='visible';\n",
       "            kql_MagicLaunchWindowFunction('kqlmagic/temp_files/e0a2f306-f969-4068-bef4-ac5186e8e06e/_Samples_at_help_schema.html', 'fullscreen=no,directories=no,location=no,menubar=no,resizable=yes,scrollbars=yes,status=no,titlebar=no,toolbar=no,', '_Samples_at_help_schema', '');\n",
       "            kql_MagicCloseWindow(kql_Magic__Samples_at_help_schema, -1, -1);\">\n",
       "            popup schema Samples@help</button>\n",
       "            </div>\n",
       "\n",
       "            <script>\n",
       "            var kql_Magic__Samples_at_help_schema = null;\n",
       "\n",
       "\n",
       "            function kql_MagicCloseWindow(window_obj, obj_secs, itself_secs) {\n",
       "                if (obj_secs >= 0) {\n",
       "                    _timeout = setTimeout(function(){\n",
       "                        window_obj.close();\n",
       "                        if (itself_secs >= 0) {\n",
       "                            __timeout = setTimeout(function(){window.close();}, itself_secs * 1000);\n",
       "                        }\n",
       "                    }, obj_secs * 1000);\n",
       "                } else if (itself_secs >= 0) {\n",
       "                    _timeout = setTimeout(function(){window.close();}, itself_secs * 1000);\n",
       "                }\n",
       "            }\n",
       "\n",
       "            function kql_MagicLaunchWindowFunction(file_path_or_data, window_params, window_name, host_or_text) {\n",
       "                var url;\n",
       "                const baseURI = String(window.location);\n",
       "                if (host_or_text == 'text' || host_or_text == 'body') {\n",
       "                    url = ''\n",
       "                } else if (file_path_or_data.startsWith('http')) {\n",
       "                    url = file_path_or_data;\n",
       "                } else if (host_or_text.endsWith('.azureml.ms') || host_or_text.endsWith('.azureml.net')) {\n",
       "                    let azuremlBaseURI = String(window.document.baseURI);\n",
       "                    let start = azuremlBaseURI.search('activeFilePath=');\n",
       "                    if (start > 0) {\n",
       "                        start += 'activeFilePath='.length;\n",
       "                        let end = azuremlBaseURI.substring(start).search('&');\n",
       "                        if (end < 0) {\n",
       "                            end = undefined;\n",
       "                        }\n",
       "                        let parts = azuremlBaseURI.substring(start, end).split('/');\n",
       "                        parts.pop();\n",
       "                        url = host_or_text + '/tree/' + parts.join('/') + '/' + file_path_or_data;\n",
       "                    } else {\n",
       "                        var parts = baseURI.split('/');\n",
       "                        parts.pop();\n",
       "                        url = parts.join('/') + '/' + file_path_or_data;\n",
       "                    }\n",
       "                } else {\n",
       "                    var base_url = '';\n",
       "\n",
       "                    // check if azure notebook\n",
       "                    var azure_host = (host_or_text == null || host_or_text.length == 0) ? 'https://notebooks.azure.com' : host_or_text;\n",
       "                    var start = azure_host.search('//');\n",
       "                    var azure_host_suffix = '.' + azure_host.substring(start+2);\n",
       "\n",
       "                    var end = baseURI.search(azure_host_suffix);\n",
       "                    start = baseURI.search('//');\n",
       "                    if (start > 0 && end > 0) {\n",
       "                        // # azure notebook environment, assume template: https://library-user.notebooks.azure.com\n",
       "                        var parts = baseURI.substring(start+2, end).split('-');\n",
       "                        if (parts.length == 2) {\n",
       "                            var library = parts[0];\n",
       "                            var user = parts[1];\n",
       "                            base_url = azure_host + '/api/user/' +user+ '/library/' +library+ '/html/';\n",
       "                        }\n",
       "                    }\n",
       "\n",
       "                    // check if local jupyter lab\n",
       "                    if (base_url.length == 0) {\n",
       "                        var configDataScipt  = document.getElementById('jupyter-config-data');\n",
       "                        if (configDataScipt != null) {\n",
       "                            var jupyterConfigData = JSON.parse(configDataScipt.textContent);\n",
       "                            if (jupyterConfigData['appName'] == 'JupyterLab' && jupyterConfigData['serverRoot'] != null &&  jupyterConfigData['treeUrl'] != null) {\n",
       "                                var basePath = '/Users/t0n038s/Documents/JupyterNotebook/ClubTroubleshoot' + '/';\n",
       "                                if (basePath.startsWith(jupyterConfigData['serverRoot'])) {\n",
       "                                    base_url = '/files/' + basePath.substring(jupyterConfigData['serverRoot'].length+1);\n",
       "                                }\n",
       "                            }\n",
       "                        }\n",
       "                    }\n",
       "\n",
       "                    // works for local jupyter notebook\n",
       "                    if (base_url.length == 0) {\n",
       "\n",
       "                        var parts = baseURI.split('/');\n",
       "                        parts.pop(); // remove notebook name segment\n",
       "                        base_url = parts.join('/') + '/';\n",
       "                    }\n",
       "                    url = base_url + file_path_or_data;\n",
       "                }\n",
       "\n",
       "                window.focus();\n",
       "                var w = screen.width / 2;\n",
       "                var h = screen.height / 2;\n",
       "                params = 'width='+w+',height='+h;\n",
       "                // kql_Magic + window_name should be a global variable \n",
       "                window_obj = window.open(url, window_name, window_params + params);\n",
       "                if (url == '') {\n",
       "                    let decodedData = atob(file_path_or_data);\n",
       "                    if (host_or_text == 'text') {\n",
       "                        var el = window_obj.document.createElement('p');\n",
       "                        window_obj.document.body.overflow = 'auto';\n",
       "                        el.style.top = 0;\n",
       "                        el.style.left = 0;\n",
       "                        el.innerHTML = decodedData;\n",
       "                        window_obj.document.body.appendChild(el);\n",
       "                    } else {\n",
       "                        window_obj.document.body.innerHTML = decodedData;\n",
       "                    }\n",
       "                }\n",
       "                kql_Magic__Samples_at_help_schema = window_obj;\n",
       "            }\n",
       "            </script>\n",
       "\n",
       "            </body></html>"
      ],
      "text/plain": [
       "<IPython.core.display.HTML object>"
      ]
     },
     "metadata": {},
     "output_type": "display_data"
    }
   ],
   "source": [
    "%kql azure-data-explorer://code;cluster='help';database='Samples' // -tryz-azcli_login"
   ]
  },
  {
   "cell_type": "markdown",
   "metadata": {},
   "source": [
    "## Use python user namespace as source of parameters\n",
    "- prefix query with **kql let statements** to parametrize the query\n",
    "- beware to the mapping: \n",
    " - int -> long \n",
    " - float -> real\n",
    " - str -> string\n",
    " - bool -> bool\n",
    " - datetime -> datetime\n",
    " - timedelta -> timespan\n",
    " - dict, list, set, tuple -> dynamic   (only if can be serialized to json)\n",
    " - **pandas dataframe -> view table**\n",
    " - None -> null\n",
    " - unknown, str(value) == 'nan' -> real(null)\n",
    " - unknown, str(value) == 'NaT' -> datetime(null)\n",
    " - unknown str(value) == 'nat' -> time(null)\n",
    " - other -> string"
   ]
  },
  {
   "cell_type": "code",
   "execution_count": 4,
   "metadata": {},
   "outputs": [],
   "source": [
    "from datetime import datetime, timedelta\n",
    "my_limit = 10\n",
    "my_not_state = 'TEXAS'\n",
    "my_start_datetime = datetime(2007, 8, 29)\n",
    "my_timespan = timedelta(days=100)\n",
    "my_dict = {\"a\":1}\n",
    "my_list = [\"x\", \"y\", \"z\"]\n",
    "my_tuple = (\"t\", 44, my_limit)\n",
    "my_set = {6,7,8}"
   ]
  },
  {
   "cell_type": "code",
   "execution_count": 5,
   "metadata": {},
   "outputs": [
    {
     "data": {
      "application/javascript": [
       "try {IPython.notebook.kernel.execute(\"NOTEBOOK_URL = '\" + window.location + \"'\");} catch(err) {;}"
      ],
      "text/plain": [
       "<IPython.core.display.Javascript object>"
      ]
     },
     "metadata": {},
     "output_type": "display_data"
    },
    {
     "data": {
      "text/html": [
       "<html>\n",
       "        <head>\n",
       "            \n",
       "            \n",
       "        </head>\n",
       "        <body>\n",
       "            <div><p style=' padding: 10px; color: #3a87ad; background-color: #d9edf7; border-color: #bce9f1'>&nbsp;*&nbsp;Samples@help</p></div>\n",
       "        </body>\n",
       "        </html>"
      ],
      "text/plain": [
       "<IPython.core.display.HTML object>"
      ]
     },
     "metadata": {},
     "output_type": "display_data"
    },
    {
     "data": {
      "text/html": [
       "<html>\n",
       "        <head>\n",
       "            \n",
       "            <title>Kqlmagic - table</title>\n",
       "        </head>\n",
       "        <body>\n",
       "            <table>\n",
       "    <thead>\n",
       "        <tr>\n",
       "            <th>State</th>\n",
       "            <th>count_</th>\n",
       "            <th>d</th>\n",
       "            <th>l</th>\n",
       "            <th>t</th>\n",
       "            <th>s</th>\n",
       "        </tr>\n",
       "    </thead>\n",
       "    <tbody>\n",
       "        <tr>\n",
       "            <td>GEORGIA</td>\n",
       "            <td>413</td>\n",
       "            <td>{&#x27;a&#x27;: 1}</td>\n",
       "            <td>[&#x27;x&#x27;, &#x27;y&#x27;, &#x27;z&#x27;]</td>\n",
       "            <td>[&#x27;t&#x27;, 44, 10]</td>\n",
       "            <td>[8, 6, 7]</td>\n",
       "        </tr>\n",
       "        <tr>\n",
       "            <td>MICHIGAN</td>\n",
       "            <td>357</td>\n",
       "            <td>{&#x27;a&#x27;: 1}</td>\n",
       "            <td>[&#x27;x&#x27;, &#x27;y&#x27;, &#x27;z&#x27;]</td>\n",
       "            <td>[&#x27;t&#x27;, 44, 10]</td>\n",
       "            <td>[8, 6, 7]</td>\n",
       "        </tr>\n",
       "        <tr>\n",
       "            <td>KANSAS</td>\n",
       "            <td>335</td>\n",
       "            <td>{&#x27;a&#x27;: 1}</td>\n",
       "            <td>[&#x27;x&#x27;, &#x27;y&#x27;, &#x27;z&#x27;]</td>\n",
       "            <td>[&#x27;t&#x27;, 44, 10]</td>\n",
       "            <td>[8, 6, 7]</td>\n",
       "        </tr>\n",
       "        <tr>\n",
       "            <td>MINNESOTA</td>\n",
       "            <td>316</td>\n",
       "            <td>{&#x27;a&#x27;: 1}</td>\n",
       "            <td>[&#x27;x&#x27;, &#x27;y&#x27;, &#x27;z&#x27;]</td>\n",
       "            <td>[&#x27;t&#x27;, 44, 10]</td>\n",
       "            <td>[8, 6, 7]</td>\n",
       "        </tr>\n",
       "        <tr>\n",
       "            <td>IOWA</td>\n",
       "            <td>311</td>\n",
       "            <td>{&#x27;a&#x27;: 1}</td>\n",
       "            <td>[&#x27;x&#x27;, &#x27;y&#x27;, &#x27;z&#x27;]</td>\n",
       "            <td>[&#x27;t&#x27;, 44, 10]</td>\n",
       "            <td>[8, 6, 7]</td>\n",
       "        </tr>\n",
       "        <tr>\n",
       "            <td>CALIFORNIA</td>\n",
       "            <td>303</td>\n",
       "            <td>{&#x27;a&#x27;: 1}</td>\n",
       "            <td>[&#x27;x&#x27;, &#x27;y&#x27;, &#x27;z&#x27;]</td>\n",
       "            <td>[&#x27;t&#x27;, 44, 10]</td>\n",
       "            <td>[8, 6, 7]</td>\n",
       "        </tr>\n",
       "        <tr>\n",
       "            <td>WISCONSIN</td>\n",
       "            <td>299</td>\n",
       "            <td>{&#x27;a&#x27;: 1}</td>\n",
       "            <td>[&#x27;x&#x27;, &#x27;y&#x27;, &#x27;z&#x27;]</td>\n",
       "            <td>[&#x27;t&#x27;, 44, 10]</td>\n",
       "            <td>[8, 6, 7]</td>\n",
       "        </tr>\n",
       "        <tr>\n",
       "            <td>MISSOURI</td>\n",
       "            <td>290</td>\n",
       "            <td>{&#x27;a&#x27;: 1}</td>\n",
       "            <td>[&#x27;x&#x27;, &#x27;y&#x27;, &#x27;z&#x27;]</td>\n",
       "            <td>[&#x27;t&#x27;, 44, 10]</td>\n",
       "            <td>[8, 6, 7]</td>\n",
       "        </tr>\n",
       "        <tr>\n",
       "            <td>ILLINOIS</td>\n",
       "            <td>274</td>\n",
       "            <td>{&#x27;a&#x27;: 1}</td>\n",
       "            <td>[&#x27;x&#x27;, &#x27;y&#x27;, &#x27;z&#x27;]</td>\n",
       "            <td>[&#x27;t&#x27;, 44, 10]</td>\n",
       "            <td>[8, 6, 7]</td>\n",
       "        </tr>\n",
       "        <tr>\n",
       "            <td>TENNESSEE</td>\n",
       "            <td>256</td>\n",
       "            <td>{&#x27;a&#x27;: 1}</td>\n",
       "            <td>[&#x27;x&#x27;, &#x27;y&#x27;, &#x27;z&#x27;]</td>\n",
       "            <td>[&#x27;t&#x27;, 44, 10]</td>\n",
       "            <td>[8, 6, 7]</td>\n",
       "        </tr>\n",
       "    </tbody>\n",
       "</table>\n",
       "        </body>\n",
       "        </html>"
      ],
      "text/plain": [
       "<IPython.core.display.HTML object>"
      ]
     },
     "metadata": {},
     "output_type": "display_data"
    },
    {
     "data": {
      "text/html": [
       "<html>\n",
       "        <head>\n",
       "            \n",
       "            \n",
       "        </head>\n",
       "        <body>\n",
       "            <div><p style=' padding: 10px; color: #3a87ad; background-color: #d9edf7; border-color: #bce9f1'>Done&nbsp;(00:00.292):&nbsp;10&nbsp;records</p></div>\n",
       "        </body>\n",
       "        </html>"
      ],
      "text/plain": [
       "<IPython.core.display.HTML object>"
      ]
     },
     "metadata": {},
     "output_type": "display_data"
    },
    {
     "data": {
      "text/html": [],
      "text/plain": [
       "[{'State': 'GEORGIA', 'count_': 413, 'd': {'a': 1}, 'l': ['x', 'y', 'z'], 't': ['t', 44, 10], 's': [8, 6, 7]},\n",
       " {'State': 'MICHIGAN', 'count_': 357, 'd': {'a': 1}, 'l': ['x', 'y', 'z'], 't': ['t', 44, 10], 's': [8, 6, 7]},\n",
       " {'State': 'KANSAS', 'count_': 335, 'd': {'a': 1}, 'l': ['x', 'y', 'z'], 't': ['t', 44, 10], 's': [8, 6, 7]},\n",
       " {'State': 'MINNESOTA', 'count_': 316, 'd': {'a': 1}, 'l': ['x', 'y', 'z'], 't': ['t', 44, 10], 's': [8, 6, 7]},\n",
       " {'State': 'IOWA', 'count_': 311, 'd': {'a': 1}, 'l': ['x', 'y', 'z'], 't': ['t', 44, 10], 's': [8, 6, 7]},\n",
       " {'State': 'CALIFORNIA', 'count_': 303, 'd': {'a': 1}, 'l': ['x', 'y', 'z'], 't': ['t', 44, 10], 's': [8, 6, 7]},\n",
       " {'State': 'WISCONSIN', 'count_': 299, 'd': {'a': 1}, 'l': ['x', 'y', 'z'], 't': ['t', 44, 10], 's': [8, 6, 7]},\n",
       " {'State': 'MISSOURI', 'count_': 290, 'd': {'a': 1}, 'l': ['x', 'y', 'z'], 't': ['t', 44, 10], 's': [8, 6, 7]},\n",
       " {'State': 'ILLINOIS', 'count_': 274, 'd': {'a': 1}, 'l': ['x', 'y', 'z'], 't': ['t', 44, 10], 's': [8, 6, 7]},\n",
       " {'State': 'TENNESSEE', 'count_': 256, 'd': {'a': 1}, 'l': ['x', 'y', 'z'], 't': ['t', 44, 10], 's': [8, 6, 7]}]"
      ]
     },
     "execution_count": 5,
     "metadata": {},
     "output_type": "execute_result"
    }
   ],
   "source": [
    "%%kql \n",
    "    let _dict_ = my_dict;\n",
    "    let _list_ = my_list;\n",
    "    let _tuple_ = my_tuple;\n",
    "    let _set_ = my_set;\n",
    "    let _start_time_ = my_start_datetime;\n",
    "    let _timespan_ = my_timespan;\n",
    "    let _limit_ = my_limit;\n",
    "    let _not_val_ = my_not_state;\n",
    "    StormEvents\n",
    "    | where StartTime >= _start_time_\n",
    "    | where EndTime <= _start_time_ + _timespan_\n",
    "    | where State != _not_val_\n",
    "    | summarize count() by State\n",
    "    | extend d = _dict_\n",
    "    | extend l = _list_\n",
    "    | extend t = _tuple_\n",
    "    | extend s = _set_\n",
    "    | sort by count_ \n",
    "    | limit _limit_"
   ]
  },
  {
   "cell_type": "markdown",
   "metadata": {},
   "source": [
    "## Dataframe prameter as a kql table\n",
    "- prefix query with **kql let statement** that assigns a kql var to the dataframe\n",
    "- beware to the mapping of the dataframe to kql table columns types : \n",
    " - int8,int16,int32,int64,uint8,uint16,uint32,uint64  -> long \n",
    " - float16,float32,float64 -> real\n",
    " - character -> string\n",
    " - bytes -> string\n",
    " - void -> string\n",
    " - category -> string\n",
    " - datetime,datetime64,datetime64[ns],datetime64[ns,tz] -> datetime\n",
    " - timedelta,timedelta64,timedelta64[ns] -> timespan\n",
    " - bool -> bool\n",
    " - record -> dynamic\n",
    " - complex64,complex128 -> dynamic([real, imag])\n",
    " - object -> if all objects of type:\n",
    "   - dict,list,tuple,set -> dynamic (only if can be serialized to json)\n",
    "   - bool or nan -> bool\n",
    "   - float or nan -> float\n",
    "   - int or nan -> long\n",
    "   - datetime or 'NaT' -> datetime\n",
    "   - timedeltae or 'NaT' -> timespan\n",
    "   - other -> string"
   ]
  },
  {
   "cell_type": "code",
   "execution_count": 6,
   "metadata": {},
   "outputs": [],
   "source": [
    "my_df =_kql_raw_result_.to_dataframe()"
   ]
  },
  {
   "cell_type": "code",
   "execution_count": 7,
   "metadata": {},
   "outputs": [
    {
     "data": {
      "text/html": [
       "<div>\n",
       "<style scoped>\n",
       "    .dataframe tbody tr th:only-of-type {\n",
       "        vertical-align: middle;\n",
       "    }\n",
       "\n",
       "    .dataframe tbody tr th {\n",
       "        vertical-align: top;\n",
       "    }\n",
       "\n",
       "    .dataframe thead th {\n",
       "        text-align: right;\n",
       "    }\n",
       "</style>\n",
       "<table border=\"1\" class=\"dataframe\">\n",
       "  <thead>\n",
       "    <tr style=\"text-align: right;\">\n",
       "      <th></th>\n",
       "      <th>State</th>\n",
       "      <th>count_</th>\n",
       "      <th>d</th>\n",
       "      <th>l</th>\n",
       "      <th>t</th>\n",
       "      <th>s</th>\n",
       "    </tr>\n",
       "  </thead>\n",
       "  <tbody>\n",
       "    <tr>\n",
       "      <th>0</th>\n",
       "      <td>GEORGIA</td>\n",
       "      <td>413</td>\n",
       "      <td>{'a': 1}</td>\n",
       "      <td>[x, y, z]</td>\n",
       "      <td>[t, 44, 10]</td>\n",
       "      <td>[8, 6, 7]</td>\n",
       "    </tr>\n",
       "    <tr>\n",
       "      <th>1</th>\n",
       "      <td>MICHIGAN</td>\n",
       "      <td>357</td>\n",
       "      <td>{'a': 1}</td>\n",
       "      <td>[x, y, z]</td>\n",
       "      <td>[t, 44, 10]</td>\n",
       "      <td>[8, 6, 7]</td>\n",
       "    </tr>\n",
       "    <tr>\n",
       "      <th>2</th>\n",
       "      <td>KANSAS</td>\n",
       "      <td>335</td>\n",
       "      <td>{'a': 1}</td>\n",
       "      <td>[x, y, z]</td>\n",
       "      <td>[t, 44, 10]</td>\n",
       "      <td>[8, 6, 7]</td>\n",
       "    </tr>\n",
       "    <tr>\n",
       "      <th>3</th>\n",
       "      <td>MINNESOTA</td>\n",
       "      <td>316</td>\n",
       "      <td>{'a': 1}</td>\n",
       "      <td>[x, y, z]</td>\n",
       "      <td>[t, 44, 10]</td>\n",
       "      <td>[8, 6, 7]</td>\n",
       "    </tr>\n",
       "    <tr>\n",
       "      <th>4</th>\n",
       "      <td>IOWA</td>\n",
       "      <td>311</td>\n",
       "      <td>{'a': 1}</td>\n",
       "      <td>[x, y, z]</td>\n",
       "      <td>[t, 44, 10]</td>\n",
       "      <td>[8, 6, 7]</td>\n",
       "    </tr>\n",
       "    <tr>\n",
       "      <th>5</th>\n",
       "      <td>CALIFORNIA</td>\n",
       "      <td>303</td>\n",
       "      <td>{'a': 1}</td>\n",
       "      <td>[x, y, z]</td>\n",
       "      <td>[t, 44, 10]</td>\n",
       "      <td>[8, 6, 7]</td>\n",
       "    </tr>\n",
       "    <tr>\n",
       "      <th>6</th>\n",
       "      <td>WISCONSIN</td>\n",
       "      <td>299</td>\n",
       "      <td>{'a': 1}</td>\n",
       "      <td>[x, y, z]</td>\n",
       "      <td>[t, 44, 10]</td>\n",
       "      <td>[8, 6, 7]</td>\n",
       "    </tr>\n",
       "    <tr>\n",
       "      <th>7</th>\n",
       "      <td>MISSOURI</td>\n",
       "      <td>290</td>\n",
       "      <td>{'a': 1}</td>\n",
       "      <td>[x, y, z]</td>\n",
       "      <td>[t, 44, 10]</td>\n",
       "      <td>[8, 6, 7]</td>\n",
       "    </tr>\n",
       "    <tr>\n",
       "      <th>8</th>\n",
       "      <td>ILLINOIS</td>\n",
       "      <td>274</td>\n",
       "      <td>{'a': 1}</td>\n",
       "      <td>[x, y, z]</td>\n",
       "      <td>[t, 44, 10]</td>\n",
       "      <td>[8, 6, 7]</td>\n",
       "    </tr>\n",
       "    <tr>\n",
       "      <th>9</th>\n",
       "      <td>TENNESSEE</td>\n",
       "      <td>256</td>\n",
       "      <td>{'a': 1}</td>\n",
       "      <td>[x, y, z]</td>\n",
       "      <td>[t, 44, 10]</td>\n",
       "      <td>[8, 6, 7]</td>\n",
       "    </tr>\n",
       "  </tbody>\n",
       "</table>\n",
       "</div>"
      ],
      "text/plain": [
       "        State  count_         d          l            t          s\n",
       "0     GEORGIA     413  {'a': 1}  [x, y, z]  [t, 44, 10]  [8, 6, 7]\n",
       "1    MICHIGAN     357  {'a': 1}  [x, y, z]  [t, 44, 10]  [8, 6, 7]\n",
       "2      KANSAS     335  {'a': 1}  [x, y, z]  [t, 44, 10]  [8, 6, 7]\n",
       "3   MINNESOTA     316  {'a': 1}  [x, y, z]  [t, 44, 10]  [8, 6, 7]\n",
       "4        IOWA     311  {'a': 1}  [x, y, z]  [t, 44, 10]  [8, 6, 7]\n",
       "5  CALIFORNIA     303  {'a': 1}  [x, y, z]  [t, 44, 10]  [8, 6, 7]\n",
       "6   WISCONSIN     299  {'a': 1}  [x, y, z]  [t, 44, 10]  [8, 6, 7]\n",
       "7    MISSOURI     290  {'a': 1}  [x, y, z]  [t, 44, 10]  [8, 6, 7]\n",
       "8    ILLINOIS     274  {'a': 1}  [x, y, z]  [t, 44, 10]  [8, 6, 7]\n",
       "9   TENNESSEE     256  {'a': 1}  [x, y, z]  [t, 44, 10]  [8, 6, 7]"
      ]
     },
     "execution_count": 7,
     "metadata": {},
     "output_type": "execute_result"
    }
   ],
   "source": [
    "my_df"
   ]
  },
  {
   "cell_type": "code",
   "execution_count": 8,
   "metadata": {},
   "outputs": [
    {
     "data": {
      "application/javascript": [
       "try {IPython.notebook.kernel.execute(\"NOTEBOOK_URL = '\" + window.location + \"'\");} catch(err) {;}"
      ],
      "text/plain": [
       "<IPython.core.display.Javascript object>"
      ]
     },
     "metadata": {},
     "output_type": "display_data"
    },
    {
     "data": {
      "text/html": [
       "<html>\n",
       "        <head>\n",
       "            \n",
       "            \n",
       "        </head>\n",
       "        <body>\n",
       "            <div><p style=' padding: 10px; color: #3a87ad; background-color: #d9edf7; border-color: #bce9f1'>&nbsp;*&nbsp;Samples@help</p></div>\n",
       "        </body>\n",
       "        </html>"
      ],
      "text/plain": [
       "<IPython.core.display.HTML object>"
      ]
     },
     "metadata": {},
     "output_type": "display_data"
    },
    {
     "data": {
      "text/html": [
       "<html>\n",
       "        <head>\n",
       "            \n",
       "            <title>Kqlmagic - table</title>\n",
       "        </head>\n",
       "        <body>\n",
       "            <table>\n",
       "    <thead>\n",
       "        <tr>\n",
       "            <th>State</th>\n",
       "            <th>s</th>\n",
       "            <th>t</th>\n",
       "        </tr>\n",
       "    </thead>\n",
       "    <tbody>\n",
       "        <tr>\n",
       "            <td>GEORGIA</td>\n",
       "            <td>[8, 6, 7]</td>\n",
       "            <td>[&#x27;t&#x27;, 44, 10]</td>\n",
       "        </tr>\n",
       "        <tr>\n",
       "            <td>MICHIGAN</td>\n",
       "            <td>[8, 6, 7]</td>\n",
       "            <td>[&#x27;t&#x27;, 44, 10]</td>\n",
       "        </tr>\n",
       "        <tr>\n",
       "            <td>KANSAS</td>\n",
       "            <td>[8, 6, 7]</td>\n",
       "            <td>[&#x27;t&#x27;, 44, 10]</td>\n",
       "        </tr>\n",
       "    </tbody>\n",
       "</table>\n",
       "        </body>\n",
       "        </html>"
      ],
      "text/plain": [
       "<IPython.core.display.HTML object>"
      ]
     },
     "metadata": {},
     "output_type": "display_data"
    },
    {
     "data": {
      "text/html": [
       "<html>\n",
       "        <head>\n",
       "            \n",
       "            \n",
       "        </head>\n",
       "        <body>\n",
       "            <div><p style=' padding: 10px; color: #3a87ad; background-color: #d9edf7; border-color: #bce9f1'>Done&nbsp;(00:00.268):&nbsp;3&nbsp;records</p></div>\n",
       "        </body>\n",
       "        </html>"
      ],
      "text/plain": [
       "<IPython.core.display.HTML object>"
      ]
     },
     "metadata": {},
     "output_type": "display_data"
    },
    {
     "data": {
      "text/html": [],
      "text/plain": [
       "[{'State': 'GEORGIA', 's': [8, 6, 7], 't': ['t', 44, 10]},\n",
       " {'State': 'MICHIGAN', 's': [8, 6, 7], 't': ['t', 44, 10]},\n",
       " {'State': 'KANSAS', 's': [8, 6, 7], 't': ['t', 44, 10]}]"
      ]
     },
     "execution_count": 8,
     "metadata": {},
     "output_type": "execute_result"
    }
   ],
   "source": [
    "%%kql \n",
    "let _my_table_ = my_df;\n",
    "_my_table_ | project State, s, t | limit 3"
   ]
  },
  {
   "cell_type": "code",
   "execution_count": 9,
   "metadata": {},
   "outputs": [
    {
     "data": {
      "text/plain": [
       "'let my_df =  view () {datatable (State:string, count_:long, d:dynamic, l:dynamic, t:dynamic, s:dynamic) [\\'GEORGIA\\', long(413), dynamic({\"a\": 1}), dynamic([\"x\", \"y\", \"z\"]), dynamic([\"t\", 44, 10]), dynamic([8, 6, 7]), \\'MICHIGAN\\', long(357), dynamic({\"a\": 1}), dynamic([\"x\", \"y\", \"z\"]), dynamic([\"t\", 44, 10]), dynamic([8, 6, 7]), \\'KANSAS\\', long(335), dynamic({\"a\": 1}), dynamic([\"x\", \"y\", \"z\"]), dynamic([\"t\", 44, 10]), dynamic([8, 6, 7]), \\'MINNESOTA\\', long(316), dynamic({\"a\": 1}), dynamic([\"x\", \"y\", \"z\"]), dynamic([\"t\", 44, 10]), dynamic([8, 6, 7]), \\'IOWA\\', long(311), dynamic({\"a\": 1}), dynamic([\"x\", \"y\", \"z\"]), dynamic([\"t\", 44, 10]), dynamic([8, 6, 7]), \\'CALIFORNIA\\', long(303), dynamic({\"a\": 1}), dynamic([\"x\", \"y\", \"z\"]), dynamic([\"t\", 44, 10]), dynamic([8, 6, 7]), \\'WISCONSIN\\', long(299), dynamic({\"a\": 1}), dynamic([\"x\", \"y\", \"z\"]), dynamic([\"t\", 44, 10]), dynamic([8, 6, 7]), \\'MISSOURI\\', long(290), dynamic({\"a\": 1}), dynamic([\"x\", \"y\", \"z\"]), dynamic([\"t\", 44, 10]), dynamic([8, 6, 7]), \\'ILLINOIS\\', long(274), dynamic({\"a\": 1}), dynamic([\"x\", \"y\", \"z\"]), dynamic([\"t\", 44, 10]), dynamic([8, 6, 7]), \\'TENNESSEE\\', long(256), dynamic({\"a\": 1}), dynamic([\"x\", \"y\", \"z\"]), dynamic([\"t\", 44, 10]), dynamic([8, 6, 7])]};\\nlet _my_table_ = my_df;\\n_my_table_ | project State, s, t | limit 3'"
      ]
     },
     "execution_count": 9,
     "metadata": {},
     "output_type": "execute_result"
    }
   ],
   "source": [
    "_kql_raw_result_.parametrized_query"
   ]
  },
  {
   "cell_type": "markdown",
   "metadata": {},
   "source": [
    "## Parametrize the whole query string"
   ]
  },
  {
   "cell_type": "code",
   "execution_count": 10,
   "metadata": {},
   "outputs": [],
   "source": [
    "sort_col = 'count_'\n",
    "my_query = \"\"\"StormEvents \n",
    "    | where State != 'OHIO'\n",
    "    | summarize count() by State\n",
    "    | sort by {0} \n",
    "    | limit 5\"\"\".format(sort_col)"
   ]
  },
  {
   "cell_type": "code",
   "execution_count": 11,
   "metadata": {},
   "outputs": [
    {
     "data": {
      "application/javascript": [
       "try {IPython.notebook.kernel.execute(\"NOTEBOOK_URL = '\" + window.location + \"'\");} catch(err) {;}"
      ],
      "text/plain": [
       "<IPython.core.display.Javascript object>"
      ]
     },
     "metadata": {},
     "output_type": "display_data"
    },
    {
     "data": {
      "text/html": [
       "<html>\n",
       "        <head>\n",
       "            \n",
       "            <title>Kqlmagic - table</title>\n",
       "        </head>\n",
       "        <body>\n",
       "            <table>\n",
       "    <thead>\n",
       "        <tr>\n",
       "            <th>State</th>\n",
       "            <th>count_</th>\n",
       "        </tr>\n",
       "    </thead>\n",
       "    <tbody>\n",
       "        <tr>\n",
       "            <td>TEXAS</td>\n",
       "            <td>4701</td>\n",
       "        </tr>\n",
       "        <tr>\n",
       "            <td>KANSAS</td>\n",
       "            <td>3166</td>\n",
       "        </tr>\n",
       "        <tr>\n",
       "            <td>IOWA</td>\n",
       "            <td>2337</td>\n",
       "        </tr>\n",
       "        <tr>\n",
       "            <td>ILLINOIS</td>\n",
       "            <td>2022</td>\n",
       "        </tr>\n",
       "        <tr>\n",
       "            <td>MISSOURI</td>\n",
       "            <td>2016</td>\n",
       "        </tr>\n",
       "    </tbody>\n",
       "</table>\n",
       "        </body>\n",
       "        </html>"
      ],
      "text/plain": [
       "<IPython.core.display.HTML object>"
      ]
     },
     "metadata": {},
     "output_type": "display_data"
    },
    {
     "data": {
      "text/html": [
       "<html>\n",
       "        <head>\n",
       "            \n",
       "            \n",
       "        </head>\n",
       "        <body>\n",
       "            <div><p style=' padding: 10px; color: #3a87ad; background-color: #d9edf7; border-color: #bce9f1'>Done&nbsp;(00:00.294):&nbsp;5&nbsp;records</p></div>\n",
       "        </body>\n",
       "        </html>"
      ],
      "text/plain": [
       "<IPython.core.display.HTML object>"
      ]
     },
     "metadata": {},
     "output_type": "display_data"
    },
    {
     "data": {
      "text/html": [],
      "text/plain": [
       "[{'State': 'TEXAS', 'count_': 4701},\n",
       " {'State': 'KANSAS', 'count_': 3166},\n",
       " {'State': 'IOWA', 'count_': 2337},\n",
       " {'State': 'ILLINOIS', 'count_': 2022},\n",
       " {'State': 'MISSOURI', 'count_': 2016}]"
      ]
     },
     "execution_count": 11,
     "metadata": {},
     "output_type": "execute_result"
    }
   ],
   "source": [
    "%kql Samples@help -query my_query"
   ]
  },
  {
   "cell_type": "markdown",
   "metadata": {},
   "source": [
    "## Use python dictionary as source of parameters\n",
    "- set option -params_dict with the name of a python variable that refer to the dictionary\n",
    "- prefix query with kql let statements to parametrize the query"
   ]
  },
  {
   "cell_type": "code",
   "execution_count": 12,
   "metadata": {},
   "outputs": [],
   "source": [
    "p_dict = {'p_limit':20, 'p_not_state':'IOWA'}"
   ]
  },
  {
   "cell_type": "code",
   "execution_count": 13,
   "metadata": {},
   "outputs": [
    {
     "data": {
      "application/javascript": [
       "try {IPython.notebook.kernel.execute(\"NOTEBOOK_URL = '\" + window.location + \"'\");} catch(err) {;}"
      ],
      "text/plain": [
       "<IPython.core.display.Javascript object>"
      ]
     },
     "metadata": {},
     "output_type": "display_data"
    },
    {
     "data": {
      "text/html": [
       "<html>\n",
       "        <head>\n",
       "            \n",
       "            \n",
       "        </head>\n",
       "        <body>\n",
       "            <div><p style=' padding: 10px; color: #3a87ad; background-color: #d9edf7; border-color: #bce9f1'>&nbsp;*&nbsp;Samples@help</p></div>\n",
       "        </body>\n",
       "        </html>"
      ],
      "text/plain": [
       "<IPython.core.display.HTML object>"
      ]
     },
     "metadata": {},
     "output_type": "display_data"
    },
    {
     "data": {
      "text/html": [
       "<html>\n",
       "        <head>\n",
       "            \n",
       "            <title>Kqlmagic - table</title>\n",
       "        </head>\n",
       "        <body>\n",
       "            <table>\n",
       "    <thead>\n",
       "        <tr>\n",
       "            <th>State</th>\n",
       "            <th>count_</th>\n",
       "        </tr>\n",
       "    </thead>\n",
       "    <tbody>\n",
       "        <tr>\n",
       "            <td>TEXAS</td>\n",
       "            <td>4701</td>\n",
       "        </tr>\n",
       "        <tr>\n",
       "            <td>KANSAS</td>\n",
       "            <td>3166</td>\n",
       "        </tr>\n",
       "        <tr>\n",
       "            <td>ILLINOIS</td>\n",
       "            <td>2022</td>\n",
       "        </tr>\n",
       "        <tr>\n",
       "            <td>MISSOURI</td>\n",
       "            <td>2016</td>\n",
       "        </tr>\n",
       "        <tr>\n",
       "            <td>GEORGIA</td>\n",
       "            <td>1983</td>\n",
       "        </tr>\n",
       "        <tr>\n",
       "            <td>MINNESOTA</td>\n",
       "            <td>1881</td>\n",
       "        </tr>\n",
       "        <tr>\n",
       "            <td>WISCONSIN</td>\n",
       "            <td>1850</td>\n",
       "        </tr>\n",
       "        <tr>\n",
       "            <td>NEBRASKA</td>\n",
       "            <td>1766</td>\n",
       "        </tr>\n",
       "        <tr>\n",
       "            <td>NEW YORK</td>\n",
       "            <td>1750</td>\n",
       "        </tr>\n",
       "        <tr>\n",
       "            <td>NORTH CAROLINA</td>\n",
       "            <td>1721</td>\n",
       "        </tr>\n",
       "        <tr>\n",
       "            <td>OKLAHOMA</td>\n",
       "            <td>1716</td>\n",
       "        </tr>\n",
       "        <tr>\n",
       "            <td>PENNSYLVANIA</td>\n",
       "            <td>1687</td>\n",
       "        </tr>\n",
       "        <tr>\n",
       "            <td>COLORADO</td>\n",
       "            <td>1654</td>\n",
       "        </tr>\n",
       "        <tr>\n",
       "            <td>VIRGINIA</td>\n",
       "            <td>1647</td>\n",
       "        </tr>\n",
       "        <tr>\n",
       "            <td>MICHIGAN</td>\n",
       "            <td>1637</td>\n",
       "        </tr>\n",
       "        <tr>\n",
       "            <td>SOUTH DAKOTA</td>\n",
       "            <td>1567</td>\n",
       "        </tr>\n",
       "        <tr>\n",
       "            <td>KENTUCKY</td>\n",
       "            <td>1391</td>\n",
       "        </tr>\n",
       "        <tr>\n",
       "            <td>ALABAMA</td>\n",
       "            <td>1315</td>\n",
       "        </tr>\n",
       "        <tr>\n",
       "            <td>OHIO</td>\n",
       "            <td>1233</td>\n",
       "        </tr>\n",
       "        <tr>\n",
       "            <td>MONTANA</td>\n",
       "            <td>1230</td>\n",
       "        </tr>\n",
       "    </tbody>\n",
       "</table>\n",
       "        </body>\n",
       "        </html>"
      ],
      "text/plain": [
       "<IPython.core.display.HTML object>"
      ]
     },
     "metadata": {},
     "output_type": "display_data"
    },
    {
     "data": {
      "text/html": [
       "<html>\n",
       "        <head>\n",
       "            \n",
       "            \n",
       "        </head>\n",
       "        <body>\n",
       "            <div><p style=' padding: 10px; color: #3a87ad; background-color: #d9edf7; border-color: #bce9f1'>Done&nbsp;(00:00.293):&nbsp;20&nbsp;records</p></div>\n",
       "        </body>\n",
       "        </html>"
      ],
      "text/plain": [
       "<IPython.core.display.HTML object>"
      ]
     },
     "metadata": {},
     "output_type": "display_data"
    },
    {
     "data": {
      "text/html": [],
      "text/plain": [
       "[{'State': 'TEXAS', 'count_': 4701},\n",
       " {'State': 'KANSAS', 'count_': 3166},\n",
       " {'State': 'ILLINOIS', 'count_': 2022},\n",
       " {'State': 'MISSOURI', 'count_': 2016},\n",
       " {'State': 'GEORGIA', 'count_': 1983},\n",
       " {'State': 'MINNESOTA', 'count_': 1881},\n",
       " {'State': 'WISCONSIN', 'count_': 1850},\n",
       " {'State': 'NEBRASKA', 'count_': 1766},\n",
       " {'State': 'NEW YORK', 'count_': 1750},\n",
       " {'State': 'NORTH CAROLINA', 'count_': 1721},\n",
       " {'State': 'OKLAHOMA', 'count_': 1716},\n",
       " {'State': 'PENNSYLVANIA', 'count_': 1687},\n",
       " {'State': 'COLORADO', 'count_': 1654},\n",
       " {'State': 'VIRGINIA', 'count_': 1647},\n",
       " {'State': 'MICHIGAN', 'count_': 1637},\n",
       " {'State': 'SOUTH DAKOTA', 'count_': 1567},\n",
       " {'State': 'KENTUCKY', 'count_': 1391},\n",
       " {'State': 'ALABAMA', 'count_': 1315},\n",
       " {'State': 'OHIO', 'count_': 1233},\n",
       " {'State': 'MONTANA', 'count_': 1230}]"
      ]
     },
     "execution_count": 13,
     "metadata": {},
     "output_type": "execute_result"
    }
   ],
   "source": [
    "%%kql \n",
    "    -params_dict p_dict\n",
    "    let _limit_ = p_limit;\n",
    "    let _not_val_ = p_not_state;\n",
    "    StormEvents \n",
    "    | where State != _not_val_\n",
    "    | summarize count() by State\n",
    "    | sort by count_ \n",
    "    | limit _limit_"
   ]
  },
  {
   "cell_type": "markdown",
   "metadata": {},
   "source": [
    "## Use python dictionary expression as source of parameters\n",
    "- set option -params_dict with a dictionary string (python format)\n",
    "- prefix query with kql let statements to parametrize the query\n",
    "- **make sure that the dictionary expression is without spaces**"
   ]
  },
  {
   "cell_type": "code",
   "execution_count": 14,
   "metadata": {},
   "outputs": [
    {
     "data": {
      "application/javascript": [
       "try {IPython.notebook.kernel.execute(\"NOTEBOOK_URL = '\" + window.location + \"'\");} catch(err) {;}"
      ],
      "text/plain": [
       "<IPython.core.display.Javascript object>"
      ]
     },
     "metadata": {},
     "output_type": "display_data"
    },
    {
     "data": {
      "text/html": [
       "<html>\n",
       "        <head>\n",
       "            \n",
       "            \n",
       "        </head>\n",
       "        <body>\n",
       "            <div><p style=' padding: 10px; color: #3a87ad; background-color: #d9edf7; border-color: #bce9f1'>&nbsp;*&nbsp;Samples@help</p></div>\n",
       "        </body>\n",
       "        </html>"
      ],
      "text/plain": [
       "<IPython.core.display.HTML object>"
      ]
     },
     "metadata": {},
     "output_type": "display_data"
    },
    {
     "data": {
      "text/html": [
       "<html>\n",
       "        <head>\n",
       "            \n",
       "            <title>Kqlmagic - table</title>\n",
       "        </head>\n",
       "        <body>\n",
       "            <table>\n",
       "    <thead>\n",
       "        <tr>\n",
       "            <th>State</th>\n",
       "            <th>count_</th>\n",
       "        </tr>\n",
       "    </thead>\n",
       "    <tbody>\n",
       "        <tr>\n",
       "            <td>TEXAS</td>\n",
       "            <td>4701</td>\n",
       "        </tr>\n",
       "        <tr>\n",
       "            <td>KANSAS</td>\n",
       "            <td>3166</td>\n",
       "        </tr>\n",
       "        <tr>\n",
       "            <td>IOWA</td>\n",
       "            <td>2337</td>\n",
       "        </tr>\n",
       "        <tr>\n",
       "            <td>ILLINOIS</td>\n",
       "            <td>2022</td>\n",
       "        </tr>\n",
       "        <tr>\n",
       "            <td>MISSOURI</td>\n",
       "            <td>2016</td>\n",
       "        </tr>\n",
       "    </tbody>\n",
       "</table>\n",
       "        </body>\n",
       "        </html>"
      ],
      "text/plain": [
       "<IPython.core.display.HTML object>"
      ]
     },
     "metadata": {},
     "output_type": "display_data"
    },
    {
     "data": {
      "text/html": [
       "<html>\n",
       "        <head>\n",
       "            \n",
       "            \n",
       "        </head>\n",
       "        <body>\n",
       "            <div><p style=' padding: 10px; color: #3a87ad; background-color: #d9edf7; border-color: #bce9f1'>Done&nbsp;(00:00.296):&nbsp;5&nbsp;records</p></div>\n",
       "        </body>\n",
       "        </html>"
      ],
      "text/plain": [
       "<IPython.core.display.HTML object>"
      ]
     },
     "metadata": {},
     "output_type": "display_data"
    },
    {
     "data": {
      "text/html": [],
      "text/plain": [
       "[{'State': 'TEXAS', 'count_': 4701},\n",
       " {'State': 'KANSAS', 'count_': 3166},\n",
       " {'State': 'IOWA', 'count_': 2337},\n",
       " {'State': 'ILLINOIS', 'count_': 2022},\n",
       " {'State': 'MISSOURI', 'count_': 2016}]"
      ]
     },
     "execution_count": 14,
     "metadata": {},
     "output_type": "execute_result"
    }
   ],
   "source": [
    "%%kql \n",
    "    -params_dict {'p_limit':5,'p_not_state':'OHIO'}\n",
    "    let _limit_ = p_limit;\n",
    "    let _not_val_ = p_not_state;\n",
    "    StormEvents \n",
    "    | where State != _not_val_\n",
    "    | summarize count() by State\n",
    "    | sort by count_ \n",
    "    | limit _limit_"
   ]
  },
  {
   "cell_type": "markdown",
   "metadata": {},
   "source": [
    "## get query string\n",
    "- shows the original query, as in the input cell"
   ]
  },
  {
   "cell_type": "code",
   "execution_count": 15,
   "metadata": {},
   "outputs": [
    {
     "data": {
      "text/plain": [
       "'let _limit_ = p_limit;\\n    let _not_val_ = p_not_state;\\n    StormEvents \\n    | where State != _not_val_\\n    | summarize count() by State\\n    | sort by count_ \\n    | limit _limit_'"
      ]
     },
     "execution_count": 15,
     "metadata": {},
     "output_type": "execute_result"
    }
   ],
   "source": [
    "_kql_raw_result_.query"
   ]
  },
  {
   "cell_type": "markdown",
   "metadata": {},
   "source": [
    "## get parametrized query string\n",
    "- shows the parametrized query, that was submited to kusto"
   ]
  },
  {
   "cell_type": "code",
   "execution_count": 16,
   "metadata": {},
   "outputs": [
    {
     "data": {
      "text/plain": [
       "\"let p_limit = long(5);\\nlet p_not_state = 'OHIO';\\nlet _limit_ = p_limit;\\n    let _not_val_ = p_not_state;\\n    StormEvents \\n    | where State != _not_val_\\n    | summarize count() by State\\n    | sort by count_ \\n    | limit _limit_\""
      ]
     },
     "execution_count": 16,
     "metadata": {},
     "output_type": "execute_result"
    }
   ],
   "source": [
    "_kql_raw_result_.parametrized_query"
   ]
  },
  {
   "cell_type": "markdown",
   "metadata": {},
   "source": [
    "  - ### <span style=\"color:#82CAFA\">*Note - additional let statements were added to the original query, one let statement for each parameter*</span>"
   ]
  },
  {
   "cell_type": "code",
   "execution_count": 17,
   "metadata": {},
   "outputs": [],
   "source": [
    "p_dict = {'p_limit':5,'p_not_state':'OHIO'}"
   ]
  },
  {
   "cell_type": "code",
   "execution_count": 18,
   "metadata": {},
   "outputs": [
    {
     "data": {
      "application/javascript": [
       "try {IPython.notebook.kernel.execute(\"NOTEBOOK_URL = '\" + window.location + \"'\");} catch(err) {;}"
      ],
      "text/plain": [
       "<IPython.core.display.Javascript object>"
      ]
     },
     "metadata": {},
     "output_type": "display_data"
    },
    {
     "data": {
      "text/html": [
       "<html>\n",
       "        <head>\n",
       "            \n",
       "            \n",
       "        </head>\n",
       "        <body>\n",
       "            \n",
       "        </body>\n",
       "        </html>"
      ],
      "text/plain": [
       "<IPython.core.display.HTML object>"
      ]
     },
     "metadata": {},
     "output_type": "display_data"
    },
    {
     "data": {
      "text/html": [
       "<html>\n",
       "        <head>\n",
       "            \n",
       "            \n",
       "        </head>\n",
       "        <body>\n",
       "            <div><p style=' padding: 10px; color: #3a87ad; background-color: #d9edf7; border-color: #bce9f1'>&nbsp;*&nbsp;Samples@help</p></div>\n",
       "        </body>\n",
       "        </html>"
      ],
      "text/plain": [
       "<IPython.core.display.HTML object>"
      ]
     },
     "metadata": {},
     "output_type": "display_data"
    },
    {
     "data": {
      "text/html": [
       "<html>\n",
       "        <head>\n",
       "            \n",
       "            \n",
       "        </head>\n",
       "        <body>\n",
       "            <div><p style=' padding: 10px; color: #3a87ad; background-color: #d9edf7; border-color: #bce9f1'>let&nbsp;p_limit&nbsp;=&nbsp;long(5);let&nbsp;p_not_state&nbsp;=&nbsp;&apos;IOWA&apos;;let&nbsp;_limit_&nbsp;=&nbsp;p_limit;<br>&nbsp;&nbsp;&nbsp;&nbsp;let&nbsp;_not_val_&nbsp;=&nbsp;p_not_state;<br>&nbsp;&nbsp;&nbsp;&nbsp;StormEvents&nbsp;<br>&nbsp;&nbsp;&nbsp;&nbsp;|&nbsp;where&nbsp;State&nbsp;!=&nbsp;_not_val_<br>&nbsp;&nbsp;&nbsp;&nbsp;|&nbsp;summarize&nbsp;count()&nbsp;by&nbsp;State<br>&nbsp;&nbsp;&nbsp;&nbsp;|&nbsp;sort&nbsp;by&nbsp;count_&nbsp;<br>&nbsp;&nbsp;&nbsp;&nbsp;|&nbsp;limit&nbsp;_limit_</p></div>\n",
       "        </body>\n",
       "        </html>"
      ],
      "text/plain": [
       "<IPython.core.display.HTML object>"
      ]
     },
     "metadata": {},
     "output_type": "display_data"
    },
    {
     "data": {
      "text/html": [
       "<!DOCTYPE html>\n",
       "            <html><body>\n",
       "            <div style=''>\n",
       "            \n",
       "            <button onclick=\"this.style.visibility='hidden';\n",
       "            kql_MagicLaunchWindowFunction('kqlmagic/temp_files/e0a2f306-f969-4068-bef4-ac5186e8e06e/5a8b61be9e014cfdbf20246ddc21406f.html', 'fullscreen=no,directories=no,location=no,menubar=no,resizable=yes,scrollbars=yes,status=no,titlebar=no,toolbar=no,', 'w_5a8b61be9e014cfdbf20246ddc21406f', '');\n",
       "            kql_MagicCloseWindow(kql_Magic_w_5a8b61be9e014cfdbf20246ddc21406f, -1, -1);\">\n",
       "            popup table </button>\n",
       "            </div>\n",
       "\n",
       "            <script>\n",
       "            var kql_Magic_w_5a8b61be9e014cfdbf20246ddc21406f = null;\n",
       "\n",
       "\n",
       "            function kql_MagicCloseWindow(window_obj, obj_secs, itself_secs) {\n",
       "                if (obj_secs >= 0) {\n",
       "                    _timeout = setTimeout(function(){\n",
       "                        window_obj.close();\n",
       "                        if (itself_secs >= 0) {\n",
       "                            __timeout = setTimeout(function(){window.close();}, itself_secs * 1000);\n",
       "                        }\n",
       "                    }, obj_secs * 1000);\n",
       "                } else if (itself_secs >= 0) {\n",
       "                    _timeout = setTimeout(function(){window.close();}, itself_secs * 1000);\n",
       "                }\n",
       "            }\n",
       "\n",
       "            function kql_MagicLaunchWindowFunction(file_path_or_data, window_params, window_name, host_or_text) {\n",
       "                var url;\n",
       "                const baseURI = String(window.location);\n",
       "                if (host_or_text == 'text' || host_or_text == 'body') {\n",
       "                    url = ''\n",
       "                } else if (file_path_or_data.startsWith('http')) {\n",
       "                    url = file_path_or_data;\n",
       "                } else if (host_or_text.endsWith('.azureml.ms') || host_or_text.endsWith('.azureml.net')) {\n",
       "                    let azuremlBaseURI = String(window.document.baseURI);\n",
       "                    let start = azuremlBaseURI.search('activeFilePath=');\n",
       "                    if (start > 0) {\n",
       "                        start += 'activeFilePath='.length;\n",
       "                        let end = azuremlBaseURI.substring(start).search('&');\n",
       "                        if (end < 0) {\n",
       "                            end = undefined;\n",
       "                        }\n",
       "                        let parts = azuremlBaseURI.substring(start, end).split('/');\n",
       "                        parts.pop();\n",
       "                        url = host_or_text + '/tree/' + parts.join('/') + '/' + file_path_or_data;\n",
       "                    } else {\n",
       "                        var parts = baseURI.split('/');\n",
       "                        parts.pop();\n",
       "                        url = parts.join('/') + '/' + file_path_or_data;\n",
       "                    }\n",
       "                } else {\n",
       "                    var base_url = '';\n",
       "\n",
       "                    // check if azure notebook\n",
       "                    var azure_host = (host_or_text == null || host_or_text.length == 0) ? 'https://notebooks.azure.com' : host_or_text;\n",
       "                    var start = azure_host.search('//');\n",
       "                    var azure_host_suffix = '.' + azure_host.substring(start+2);\n",
       "\n",
       "                    var end = baseURI.search(azure_host_suffix);\n",
       "                    start = baseURI.search('//');\n",
       "                    if (start > 0 && end > 0) {\n",
       "                        // # azure notebook environment, assume template: https://library-user.notebooks.azure.com\n",
       "                        var parts = baseURI.substring(start+2, end).split('-');\n",
       "                        if (parts.length == 2) {\n",
       "                            var library = parts[0];\n",
       "                            var user = parts[1];\n",
       "                            base_url = azure_host + '/api/user/' +user+ '/library/' +library+ '/html/';\n",
       "                        }\n",
       "                    }\n",
       "\n",
       "                    // check if local jupyter lab\n",
       "                    if (base_url.length == 0) {\n",
       "                        var configDataScipt  = document.getElementById('jupyter-config-data');\n",
       "                        if (configDataScipt != null) {\n",
       "                            var jupyterConfigData = JSON.parse(configDataScipt.textContent);\n",
       "                            if (jupyterConfigData['appName'] == 'JupyterLab' && jupyterConfigData['serverRoot'] != null &&  jupyterConfigData['treeUrl'] != null) {\n",
       "                                var basePath = '/Users/t0n038s/Documents/JupyterNotebook/ClubTroubleshoot' + '/';\n",
       "                                if (basePath.startsWith(jupyterConfigData['serverRoot'])) {\n",
       "                                    base_url = '/files/' + basePath.substring(jupyterConfigData['serverRoot'].length+1);\n",
       "                                }\n",
       "                            }\n",
       "                        }\n",
       "                    }\n",
       "\n",
       "                    // works for local jupyter notebook\n",
       "                    if (base_url.length == 0) {\n",
       "\n",
       "                        var parts = baseURI.split('/');\n",
       "                        parts.pop(); // remove notebook name segment\n",
       "                        base_url = parts.join('/') + '/';\n",
       "                    }\n",
       "                    url = base_url + file_path_or_data;\n",
       "                }\n",
       "\n",
       "                window.focus();\n",
       "                var w = screen.width / 2;\n",
       "                var h = screen.height / 2;\n",
       "                params = 'width='+w+',height='+h;\n",
       "                // kql_Magic + window_name should be a global variable \n",
       "                window_obj = window.open(url, window_name, window_params + params);\n",
       "                if (url == '') {\n",
       "                    let decodedData = atob(file_path_or_data);\n",
       "                    if (host_or_text == 'text') {\n",
       "                        var el = window_obj.document.createElement('p');\n",
       "                        window_obj.document.body.overflow = 'auto';\n",
       "                        el.style.top = 0;\n",
       "                        el.style.left = 0;\n",
       "                        el.innerHTML = decodedData;\n",
       "                        window_obj.document.body.appendChild(el);\n",
       "                    } else {\n",
       "                        window_obj.document.body.innerHTML = decodedData;\n",
       "                    }\n",
       "                }\n",
       "                kql_Magic_w_5a8b61be9e014cfdbf20246ddc21406f = window_obj;\n",
       "            }\n",
       "            </script>\n",
       "\n",
       "            </body></html>"
      ],
      "text/plain": [
       "<IPython.core.display.HTML object>"
      ]
     },
     "metadata": {},
     "output_type": "display_data"
    },
    {
     "data": {
      "text/html": [
       "<html>\n",
       "        <head>\n",
       "            \n",
       "            \n",
       "        </head>\n",
       "        <body>\n",
       "            <div><p style=' padding: 10px; color: #3a87ad; background-color: #d9edf7; border-color: #bce9f1'>Done&nbsp;(00:00.286):&nbsp;5&nbsp;records</p></div>\n",
       "        </body>\n",
       "        </html>"
      ],
      "text/plain": [
       "<IPython.core.display.HTML object>"
      ]
     },
     "metadata": {},
     "output_type": "display_data"
    },
    {
     "data": {
      "text/html": [
       "<html>\n",
       "        <head>\n",
       "            \n",
       "            \n",
       "        </head>\n",
       "        <body>\n",
       "            \n",
       "        </body>\n",
       "        </html>"
      ],
      "text/plain": [
       "<IPython.core.display.HTML object>"
      ]
     },
     "metadata": {},
     "output_type": "display_data"
    },
    {
     "data": {
      "text/html": [],
      "text/plain": [
       "[{'State': 'TEXAS', 'count_': 4701},\n",
       " {'State': 'KANSAS', 'count_': 3166},\n",
       " {'State': 'IOWA', 'count_': 2337},\n",
       " {'State': 'ILLINOIS', 'count_': 2022},\n",
       " {'State': 'MISSOURI', 'count_': 2016}]"
      ]
     },
     "execution_count": 18,
     "metadata": {},
     "output_type": "execute_result"
    }
   ],
   "source": [
    "%%kql Samples@help\n",
    "    -displayid='True'\n",
    "    -params_dict p_dict\n",
    "    let _limit_ = p_limit;\n",
    "    let _not_val_ = p_not_state;\n",
    "    StormEvents \n",
    "    | where State != _not_val_\n",
    "    | summarize count() by State\n",
    "    | sort by count_ \n",
    "    | limit _limit_"
   ]
  },
  {
   "cell_type": "markdown",
   "metadata": {},
   "source": [
    "## parameters dictionary is modified"
   ]
  },
  {
   "cell_type": "code",
   "execution_count": 19,
   "metadata": {},
   "outputs": [],
   "source": [
    "p_dict = {'p_limit': 5, 'p_not_state': 'IOWA'}"
   ]
  },
  {
   "cell_type": "markdown",
   "metadata": {},
   "source": [
    "## refresh use original parameters\n",
    "- the same parameter values are used"
   ]
  },
  {
   "cell_type": "code",
   "execution_count": 20,
   "metadata": {},
   "outputs": [
    {
     "data": {
      "application/javascript": [
       "try {IPython.notebook.kernel.execute(\"NOTEBOOK_URL = '\" + window.location + \"'\");} catch(err) {;}"
      ],
      "text/plain": [
       "<IPython.core.display.Javascript object>"
      ]
     },
     "metadata": {},
     "output_type": "display_data"
    },
    {
     "data": {
      "text/html": [],
      "text/plain": [
       "[{'State': 'TEXAS', 'count_': 4701}, {'State': 'KANSAS', 'count_': 3166}]"
      ]
     },
     "execution_count": 20,
     "metadata": {},
     "output_type": "execute_result"
    }
   ],
   "source": [
    "_kql_raw_result_.refresh(override_vars={'p_limit':2})"
   ]
  },
  {
   "cell_type": "markdown",
   "metadata": {},
   "source": [
    "  - ### <span style=\"color:#82CAFA\">*Note - the refresh method use the original parameter values, as they were set*</span>"
   ]
  },
  {
   "cell_type": "markdown",
   "metadata": {},
   "source": [
    "## submit use the current python values as parameters\n",
    "- a new query is created and parametrized with the current python values"
   ]
  },
  {
   "cell_type": "code",
   "execution_count": 21,
   "metadata": {},
   "outputs": [
    {
     "data": {
      "application/javascript": [
       "try {IPython.notebook.kernel.execute(\"NOTEBOOK_URL = '\" + window.location + \"'\");} catch(err) {;}"
      ],
      "text/plain": [
       "<IPython.core.display.Javascript object>"
      ]
     },
     "metadata": {},
     "output_type": "display_data"
    },
    {
     "data": {
      "text/html": [],
      "text/plain": [
       "[{'State': 'TEXAS', 'count_': 4701},\n",
       " {'State': 'KANSAS', 'count_': 3166},\n",
       " {'State': 'ILLINOIS', 'count_': 2022},\n",
       " {'State': 'MISSOURI', 'count_': 2016},\n",
       " {'State': 'GEORGIA', 'count_': 1983}]"
      ]
     },
     "execution_count": 21,
     "metadata": {},
     "output_type": "execute_result"
    }
   ],
   "source": [
    "_kql_raw_result_.submit()"
   ]
  },
  {
   "cell_type": "markdown",
   "metadata": {},
   "source": [
    "  - ### <span style=\"color:#82CAFA\">*Note - the submit method cretes a new query and parametrize with the current parameter values*</span>"
   ]
  },
  {
   "cell_type": "markdown",
   "metadata": {},
   "source": [
    "## submit can also override original query parameters\n",
    "- set the override_vars parameter with a dictionary of var/value that will override the source for the query parameters"
   ]
  },
  {
   "cell_type": "code",
   "execution_count": 22,
   "metadata": {},
   "outputs": [
    {
     "data": {
      "application/javascript": [
       "try {IPython.notebook.kernel.execute(\"NOTEBOOK_URL = '\" + window.location + \"'\");} catch(err) {;}"
      ],
      "text/plain": [
       "<IPython.core.display.Javascript object>"
      ]
     },
     "metadata": {},
     "output_type": "display_data"
    },
    {
     "data": {
      "text/html": [],
      "text/plain": [
       "[{'State': 'TEXAS', 'count_': 4701}, {'State': 'KANSAS', 'count_': 3166}]"
      ]
     },
     "execution_count": 22,
     "metadata": {},
     "output_type": "execute_result"
    }
   ],
   "source": [
    "_kql_raw_result_.submit(override_vars={'p_limit': 2})"
   ]
  },
  {
   "cell_type": "markdown",
   "metadata": {},
   "source": [
    "  - ### <span style=\"color:#82CAFA\">*Note - the override_vars dictionary has higher priority than the originary query parameters vars dictionary.*</span>"
   ]
  },
  {
   "cell_type": "code",
   "execution_count": 23,
   "metadata": {},
   "outputs": [
    {
     "data": {
      "application/javascript": [
       "try {IPython.notebook.kernel.execute(\"NOTEBOOK_URL = '\" + window.location + \"'\");} catch(err) {;}"
      ],
      "text/plain": [
       "<IPython.core.display.Javascript object>"
      ]
     },
     "metadata": {},
     "output_type": "display_data"
    },
    {
     "data": {
      "text/html": [],
      "text/plain": [
       "[{'State': 'TEXAS', 'count_': 4701}, {'State': 'KANSAS', 'count_': 3166}]"
      ]
     },
     "execution_count": 23,
     "metadata": {},
     "output_type": "execute_result"
    }
   ],
   "source": [
    "_kql_raw_result_.refresh()"
   ]
  },
  {
   "cell_type": "markdown",
   "metadata": {},
   "source": [
    "## submit can also override original query options\n",
    "set the override_options parameter with a dictionary of option/value hat will override the current query options"
   ]
  },
  {
   "cell_type": "code",
   "execution_count": 24,
   "metadata": {},
   "outputs": [
    {
     "data": {
      "application/javascript": [
       "try {IPython.notebook.kernel.execute(\"NOTEBOOK_URL = '\" + window.location + \"'\");} catch(err) {;}"
      ],
      "text/plain": [
       "<IPython.core.display.Javascript object>"
      ]
     },
     "metadata": {},
     "output_type": "display_data"
    },
    {
     "data": {
      "text/html": [],
      "text/plain": [
       "[{'State': 'TEXAS', 'count_': 4701},\n",
       " {'State': 'KANSAS', 'count_': 3166},\n",
       " {'State': 'ILLINOIS', 'count_': 2022}]"
      ]
     },
     "execution_count": 24,
     "metadata": {},
     "output_type": "execute_result"
    }
   ],
   "source": [
    "_kql_raw_result_.submit(override_vars={'p_limit': 3},override_options={'show_query': True})"
   ]
  },
  {
   "cell_type": "code",
   "execution_count": 25,
   "metadata": {},
   "outputs": [
    {
     "data": {
      "application/javascript": [
       "try {IPython.notebook.kernel.execute(\"NOTEBOOK_URL = '\" + window.location + \"'\");} catch(err) {;}"
      ],
      "text/plain": [
       "<IPython.core.display.Javascript object>"
      ]
     },
     "metadata": {},
     "output_type": "display_data"
    },
    {
     "data": {
      "text/html": [],
      "text/plain": [
       "[{'State': 'TEXAS', 'count_': 4701},\n",
       " {'State': 'KANSAS', 'count_': 3166},\n",
       " {'State': 'ILLINOIS', 'count_': 2022}]"
      ]
     },
     "execution_count": 25,
     "metadata": {},
     "output_type": "execute_result"
    }
   ],
   "source": [
    "_kql_raw_result_.refresh()"
   ]
  },
  {
   "cell_type": "markdown",
   "metadata": {},
   "source": [
    "## show parametrized query with results\n",
    "- set option -show_query (abbreviation -sq)"
   ]
  },
  {
   "cell_type": "code",
   "execution_count": 26,
   "metadata": {},
   "outputs": [
    {
     "data": {
      "application/javascript": [
       "try {IPython.notebook.kernel.execute(\"NOTEBOOK_URL = '\" + window.location + \"'\");} catch(err) {;}"
      ],
      "text/plain": [
       "<IPython.core.display.Javascript object>"
      ]
     },
     "metadata": {},
     "output_type": "display_data"
    },
    {
     "data": {
      "text/html": [],
      "text/plain": [
       "[{'State': 'TEXAS', 'count_': 4701},\n",
       " {'State': 'KANSAS', 'count_': 3166},\n",
       " {'State': 'ILLINOIS', 'count_': 2022},\n",
       " {'State': 'MISSOURI', 'count_': 2016},\n",
       " {'State': 'GEORGIA', 'count_': 1983}]"
      ]
     },
     "execution_count": 26,
     "metadata": {},
     "output_type": "execute_result"
    }
   ],
   "source": [
    "%%kql \n",
    "    -params_dict p_dict -sq\n",
    "    let _limit_ = p_limit;\n",
    "    let _not_val_ = p_not_state;\n",
    "    StormEvents \n",
    "    | where State != _not_val_\n",
    "    | summarize count() by State\n",
    "    | sort by count_ \n",
    "    | limit _limit_"
   ]
  },
  {
   "cell_type": "markdown",
   "metadata": {},
   "source": [
    "## Parametrize option\n",
    "all options can be parametrized.\n",
    "instead of providing a quoted parameter value, specify the python variable or python expression\n",
    "\n",
    "- beware, that python expression must not have spaces !!! \n",
    "  - valid expression examples: ```my_var```, ```str(type(x))```, ```[a,1,2]```\n",
    "  - invalid expressions: ```str( type ( x ) )```, ```[a, 1, 2]```"
   ]
  },
  {
   "cell_type": "code",
   "execution_count": 27,
   "metadata": {},
   "outputs": [],
   "source": [
    "table_package = 'pandas'\n",
    "my_popup_state = True"
   ]
  },
  {
   "cell_type": "code",
   "execution_count": 28,
   "metadata": {},
   "outputs": [
    {
     "data": {
      "application/javascript": [
       "try {IPython.notebook.kernel.execute(\"NOTEBOOK_URL = '\" + window.location + \"'\");} catch(err) {;}"
      ],
      "text/plain": [
       "<IPython.core.display.Javascript object>"
      ]
     },
     "metadata": {},
     "output_type": "display_data"
    },
    {
     "data": {
      "text/html": [],
      "text/plain": [
       "[{'State': 'TEXAS', 'count_': 4701},\n",
       " {'State': 'KANSAS', 'count_': 3166},\n",
       " {'State': 'IOWA', 'count_': 2337},\n",
       " {'State': 'ILLINOIS', 'count_': 2022},\n",
       " {'State': 'MISSOURI', 'count_': 2016}]"
      ]
     },
     "execution_count": 28,
     "metadata": {},
     "output_type": "execute_result"
    }
   ],
   "source": [
    "%%kql -tp=table_package -pw=my_popup_state  -f=table_package!='pandas'\n",
    "    StormEvents \n",
    "    | where State != 'OHIO'\n",
    "    | summarize count() by State\n",
    "    | sort by count_ \n",
    "    | limit 5"
   ]
  },
  {
   "cell_type": "markdown",
   "metadata": {},
   "source": [
    "## Parametrize commands\n",
    "all commands can be parametrized.\n",
    "instead of providing a quoted parameter value, specify the python variable or python expression.\n",
    "\n",
    "- **note**, if instead of the python expression, you specify a variable that starts with $, it will be retreived from the environment variables.<br><br>\n",
    "- **beware**, that python expression must not have spaces !!!"
   ]
  },
  {
   "cell_type": "code",
   "execution_count": 29,
   "metadata": {},
   "outputs": [],
   "source": [
    "my_topic = \"kql\""
   ]
  },
  {
   "cell_type": "code",
   "execution_count": 30,
   "metadata": {},
   "outputs": [
    {
     "data": {
      "application/javascript": [
       "try {IPython.notebook.kernel.execute(\"NOTEBOOK_URL = '\" + window.location + \"'\");} catch(err) {;}"
      ],
      "text/plain": [
       "<IPython.core.display.Javascript object>"
      ]
     },
     "metadata": {},
     "output_type": "display_data"
    },
    {
     "data": {
      "text/html": [
       "<!DOCTYPE html>\n",
       "            <html><body>\n",
       "            <div style=''>\n",
       "            \n",
       "            <button onclick=\"this.style.visibility='visible';\n",
       "            kql_MagicLaunchWindowFunction('https://docs.microsoft.com/en-us/azure/data-explorer/kusto/query/', 'fullscreen=no,directories=no,location=no,menubar=no,resizable=yes,scrollbars=yes,status=no,titlebar=no,toolbar=no,', 'kql', '');\n",
       "            kql_MagicCloseWindow(kql_Magic_kql, -1, -1);\">\n",
       "            popup kql reference </button>\n",
       "            </div>\n",
       "\n",
       "            <script>\n",
       "            var kql_Magic_kql = null;\n",
       "\n",
       "\n",
       "            function kql_MagicCloseWindow(window_obj, obj_secs, itself_secs) {\n",
       "                if (obj_secs >= 0) {\n",
       "                    _timeout = setTimeout(function(){\n",
       "                        window_obj.close();\n",
       "                        if (itself_secs >= 0) {\n",
       "                            __timeout = setTimeout(function(){window.close();}, itself_secs * 1000);\n",
       "                        }\n",
       "                    }, obj_secs * 1000);\n",
       "                } else if (itself_secs >= 0) {\n",
       "                    _timeout = setTimeout(function(){window.close();}, itself_secs * 1000);\n",
       "                }\n",
       "            }\n",
       "\n",
       "            function kql_MagicLaunchWindowFunction(file_path_or_data, window_params, window_name, host_or_text) {\n",
       "                var url;\n",
       "                const baseURI = String(window.location);\n",
       "                if (host_or_text == 'text' || host_or_text == 'body') {\n",
       "                    url = ''\n",
       "                } else if (file_path_or_data.startsWith('http')) {\n",
       "                    url = file_path_or_data;\n",
       "                } else if (host_or_text.endsWith('.azureml.ms') || host_or_text.endsWith('.azureml.net')) {\n",
       "                    let azuremlBaseURI = String(window.document.baseURI);\n",
       "                    let start = azuremlBaseURI.search('activeFilePath=');\n",
       "                    if (start > 0) {\n",
       "                        start += 'activeFilePath='.length;\n",
       "                        let end = azuremlBaseURI.substring(start).search('&');\n",
       "                        if (end < 0) {\n",
       "                            end = undefined;\n",
       "                        }\n",
       "                        let parts = azuremlBaseURI.substring(start, end).split('/');\n",
       "                        parts.pop();\n",
       "                        url = host_or_text + '/tree/' + parts.join('/') + '/' + file_path_or_data;\n",
       "                    } else {\n",
       "                        var parts = baseURI.split('/');\n",
       "                        parts.pop();\n",
       "                        url = parts.join('/') + '/' + file_path_or_data;\n",
       "                    }\n",
       "                } else {\n",
       "                    var base_url = '';\n",
       "\n",
       "                    // check if azure notebook\n",
       "                    var azure_host = (host_or_text == null || host_or_text.length == 0) ? 'https://notebooks.azure.com' : host_or_text;\n",
       "                    var start = azure_host.search('//');\n",
       "                    var azure_host_suffix = '.' + azure_host.substring(start+2);\n",
       "\n",
       "                    var end = baseURI.search(azure_host_suffix);\n",
       "                    start = baseURI.search('//');\n",
       "                    if (start > 0 && end > 0) {\n",
       "                        // # azure notebook environment, assume template: https://library-user.notebooks.azure.com\n",
       "                        var parts = baseURI.substring(start+2, end).split('-');\n",
       "                        if (parts.length == 2) {\n",
       "                            var library = parts[0];\n",
       "                            var user = parts[1];\n",
       "                            base_url = azure_host + '/api/user/' +user+ '/library/' +library+ '/html/';\n",
       "                        }\n",
       "                    }\n",
       "\n",
       "                    // check if local jupyter lab\n",
       "                    if (base_url.length == 0) {\n",
       "                        var configDataScipt  = document.getElementById('jupyter-config-data');\n",
       "                        if (configDataScipt != null) {\n",
       "                            var jupyterConfigData = JSON.parse(configDataScipt.textContent);\n",
       "                            if (jupyterConfigData['appName'] == 'JupyterLab' && jupyterConfigData['serverRoot'] != null &&  jupyterConfigData['treeUrl'] != null) {\n",
       "                                var basePath = '/Users/t0n038s/Documents/JupyterNotebook/ClubTroubleshoot' + '/';\n",
       "                                if (basePath.startsWith(jupyterConfigData['serverRoot'])) {\n",
       "                                    base_url = '/files/' + basePath.substring(jupyterConfigData['serverRoot'].length+1);\n",
       "                                }\n",
       "                            }\n",
       "                        }\n",
       "                    }\n",
       "\n",
       "                    // works for local jupyter notebook\n",
       "                    if (base_url.length == 0) {\n",
       "\n",
       "                        var parts = baseURI.split('/');\n",
       "                        parts.pop(); // remove notebook name segment\n",
       "                        base_url = parts.join('/') + '/';\n",
       "                    }\n",
       "                    url = base_url + file_path_or_data;\n",
       "                }\n",
       "\n",
       "                window.focus();\n",
       "                var w = screen.width / 2;\n",
       "                var h = screen.height / 2;\n",
       "                params = 'width='+w+',height='+h;\n",
       "                // kql_Magic + window_name should be a global variable \n",
       "                window_obj = window.open(url, window_name, window_params + params);\n",
       "                if (url == '') {\n",
       "                    let decodedData = atob(file_path_or_data);\n",
       "                    if (host_or_text == 'text') {\n",
       "                        var el = window_obj.document.createElement('p');\n",
       "                        window_obj.document.body.overflow = 'auto';\n",
       "                        el.style.top = 0;\n",
       "                        el.style.left = 0;\n",
       "                        el.innerHTML = decodedData;\n",
       "                        window_obj.document.body.appendChild(el);\n",
       "                    } else {\n",
       "                        window_obj.document.body.innerHTML = decodedData;\n",
       "                    }\n",
       "                }\n",
       "                kql_Magic_kql = window_obj;\n",
       "            }\n",
       "            </script>\n",
       "\n",
       "            </body></html>"
      ],
      "text/plain": [
       "<IPython.core.display.HTML object>"
      ]
     },
     "execution_count": 30,
     "metadata": {},
     "output_type": "execute_result"
    }
   ],
   "source": [
    "%kql --help my_topic"
   ]
  },
  {
   "cell_type": "markdown",
   "metadata": {},
   "source": [
    "## Parametrize connection string\n",
    "all values in connection string can be parametrized.\n",
    "instead of providing a quoted parameter value, specify the python variable or python expression\n",
    "\n",
    "- **note**, if you don't specify the credential's secret you will be prompted.\n",
    "- **note**, if instead of the python expression, you specify a variable that starts with $, it will be retreived from the environment variables.<br><br>\n",
    "\n",
    "- beware, that python expression must not have spaces !!!"
   ]
  },
  {
   "cell_type": "code",
   "execution_count": 31,
   "metadata": {},
   "outputs": [],
   "source": [
    "my_appid = \"DEMO_APP\"\n",
    "my_appkey = \"DEMO_KEY\""
   ]
  },
  {
   "cell_type": "code",
   "execution_count": 32,
   "metadata": {},
   "outputs": [
    {
     "data": {
      "application/javascript": [
       "try {IPython.notebook.kernel.execute(\"NOTEBOOK_URL = '\" + window.location + \"'\");} catch(err) {;}"
      ],
      "text/plain": [
       "<IPython.core.display.Javascript object>"
      ]
     },
     "metadata": {},
     "output_type": "display_data"
    },
    {
     "data": {
      "text/html": [
       "<!DOCTYPE html>\n",
       "            <html><body>\n",
       "            <div style=''>\n",
       "            \n",
       "            <button onclick=\"this.style.visibility='visible';\n",
       "            kql_MagicLaunchWindowFunction('kqlmagic/temp_files/e0a2f306-f969-4068-bef4-ac5186e8e06e/_DEMO_APP_at_applicationinsights_schema.html', 'fullscreen=no,directories=no,location=no,menubar=no,resizable=yes,scrollbars=yes,status=no,titlebar=no,toolbar=no,', '_DEMO_APP_at_applicationinsights_schema', '');\n",
       "            kql_MagicCloseWindow(kql_Magic__DEMO_APP_at_applicationinsights_schema, -1, -1);\">\n",
       "            popup schema DEMO_APP@applicationinsights</button>\n",
       "            </div>\n",
       "\n",
       "            <script>\n",
       "            var kql_Magic__DEMO_APP_at_applicationinsights_schema = null;\n",
       "\n",
       "\n",
       "            function kql_MagicCloseWindow(window_obj, obj_secs, itself_secs) {\n",
       "                if (obj_secs >= 0) {\n",
       "                    _timeout = setTimeout(function(){\n",
       "                        window_obj.close();\n",
       "                        if (itself_secs >= 0) {\n",
       "                            __timeout = setTimeout(function(){window.close();}, itself_secs * 1000);\n",
       "                        }\n",
       "                    }, obj_secs * 1000);\n",
       "                } else if (itself_secs >= 0) {\n",
       "                    _timeout = setTimeout(function(){window.close();}, itself_secs * 1000);\n",
       "                }\n",
       "            }\n",
       "\n",
       "            function kql_MagicLaunchWindowFunction(file_path_or_data, window_params, window_name, host_or_text) {\n",
       "                var url;\n",
       "                const baseURI = String(window.location);\n",
       "                if (host_or_text == 'text' || host_or_text == 'body') {\n",
       "                    url = ''\n",
       "                } else if (file_path_or_data.startsWith('http')) {\n",
       "                    url = file_path_or_data;\n",
       "                } else if (host_or_text.endsWith('.azureml.ms') || host_or_text.endsWith('.azureml.net')) {\n",
       "                    let azuremlBaseURI = String(window.document.baseURI);\n",
       "                    let start = azuremlBaseURI.search('activeFilePath=');\n",
       "                    if (start > 0) {\n",
       "                        start += 'activeFilePath='.length;\n",
       "                        let end = azuremlBaseURI.substring(start).search('&');\n",
       "                        if (end < 0) {\n",
       "                            end = undefined;\n",
       "                        }\n",
       "                        let parts = azuremlBaseURI.substring(start, end).split('/');\n",
       "                        parts.pop();\n",
       "                        url = host_or_text + '/tree/' + parts.join('/') + '/' + file_path_or_data;\n",
       "                    } else {\n",
       "                        var parts = baseURI.split('/');\n",
       "                        parts.pop();\n",
       "                        url = parts.join('/') + '/' + file_path_or_data;\n",
       "                    }\n",
       "                } else {\n",
       "                    var base_url = '';\n",
       "\n",
       "                    // check if azure notebook\n",
       "                    var azure_host = (host_or_text == null || host_or_text.length == 0) ? 'https://notebooks.azure.com' : host_or_text;\n",
       "                    var start = azure_host.search('//');\n",
       "                    var azure_host_suffix = '.' + azure_host.substring(start+2);\n",
       "\n",
       "                    var end = baseURI.search(azure_host_suffix);\n",
       "                    start = baseURI.search('//');\n",
       "                    if (start > 0 && end > 0) {\n",
       "                        // # azure notebook environment, assume template: https://library-user.notebooks.azure.com\n",
       "                        var parts = baseURI.substring(start+2, end).split('-');\n",
       "                        if (parts.length == 2) {\n",
       "                            var library = parts[0];\n",
       "                            var user = parts[1];\n",
       "                            base_url = azure_host + '/api/user/' +user+ '/library/' +library+ '/html/';\n",
       "                        }\n",
       "                    }\n",
       "\n",
       "                    // check if local jupyter lab\n",
       "                    if (base_url.length == 0) {\n",
       "                        var configDataScipt  = document.getElementById('jupyter-config-data');\n",
       "                        if (configDataScipt != null) {\n",
       "                            var jupyterConfigData = JSON.parse(configDataScipt.textContent);\n",
       "                            if (jupyterConfigData['appName'] == 'JupyterLab' && jupyterConfigData['serverRoot'] != null &&  jupyterConfigData['treeUrl'] != null) {\n",
       "                                var basePath = '/Users/t0n038s/Documents/JupyterNotebook/ClubTroubleshoot' + '/';\n",
       "                                if (basePath.startsWith(jupyterConfigData['serverRoot'])) {\n",
       "                                    base_url = '/files/' + basePath.substring(jupyterConfigData['serverRoot'].length+1);\n",
       "                                }\n",
       "                            }\n",
       "                        }\n",
       "                    }\n",
       "\n",
       "                    // works for local jupyter notebook\n",
       "                    if (base_url.length == 0) {\n",
       "\n",
       "                        var parts = baseURI.split('/');\n",
       "                        parts.pop(); // remove notebook name segment\n",
       "                        base_url = parts.join('/') + '/';\n",
       "                    }\n",
       "                    url = base_url + file_path_or_data;\n",
       "                }\n",
       "\n",
       "                window.focus();\n",
       "                var w = screen.width / 2;\n",
       "                var h = screen.height / 2;\n",
       "                params = 'width='+w+',height='+h;\n",
       "                // kql_Magic + window_name should be a global variable \n",
       "                window_obj = window.open(url, window_name, window_params + params);\n",
       "                if (url == '') {\n",
       "                    let decodedData = atob(file_path_or_data);\n",
       "                    if (host_or_text == 'text') {\n",
       "                        var el = window_obj.document.createElement('p');\n",
       "                        window_obj.document.body.overflow = 'auto';\n",
       "                        el.style.top = 0;\n",
       "                        el.style.left = 0;\n",
       "                        el.innerHTML = decodedData;\n",
       "                        window_obj.document.body.appendChild(el);\n",
       "                    } else {\n",
       "                        window_obj.document.body.innerHTML = decodedData;\n",
       "                    }\n",
       "                }\n",
       "                kql_Magic__DEMO_APP_at_applicationinsights_schema = window_obj;\n",
       "            }\n",
       "            </script>\n",
       "\n",
       "            </body></html>"
      ],
      "text/plain": [
       "<IPython.core.display.HTML object>"
      ]
     },
     "metadata": {},
     "output_type": "display_data"
    }
   ],
   "source": [
    "%kql appinsights://appid=my_appid;appkey=my_appkey"
   ]
  },
  {
   "cell_type": "markdown",
   "metadata": {},
   "source": [
    "## Parametrize the whole connection string"
   ]
  },
  {
   "cell_type": "code",
   "execution_count": 33,
   "metadata": {},
   "outputs": [],
   "source": [
    "my_connection_str = \"\"\"\n",
    "loganalytics://workspace='DEMO_WORKSPACE';appkey='DEMO_KEY';alias='myworkspace'\n",
    "\"\"\""
   ]
  },
  {
   "cell_type": "code",
   "execution_count": 34,
   "metadata": {},
   "outputs": [
    {
     "data": {
      "application/javascript": [
       "try {IPython.notebook.kernel.execute(\"NOTEBOOK_URL = '\" + window.location + \"'\");} catch(err) {;}"
      ],
      "text/plain": [
       "<IPython.core.display.Javascript object>"
      ]
     },
     "metadata": {},
     "output_type": "display_data"
    },
    {
     "data": {
      "text/html": [
       "<html>\n",
       "        <head>\n",
       "            \n",
       "            \n",
       "        </head>\n",
       "        <body>\n",
       "            <div><p style=' padding: 10px; color: #b94a48; background-color: #f2dede; border-color: #eed3d7'>ConnectionError:&nbsp;HTTPSConnectionPool(host=&apos;api.loganalytics.io&apos;,&nbsp;port=443):&nbsp;Max&nbsp;retries&nbsp;exceeded&nbsp;with&nbsp;url:&nbsp;/v1/workspaces/DEMO_WORKSPACE/query&nbsp;(Caused&nbsp;by&nbsp;NewConnectionError(&apos;<urllib3.connection.HTTPSConnection&nbsp;object&nbsp;at&nbsp;0x12a1b37c0>:&nbsp;Failed&nbsp;to&nbsp;establish&nbsp;a&nbsp;new&nbsp;connection:&nbsp;[Errno&nbsp;8]&nbsp;nodename&nbsp;nor&nbsp;servname&nbsp;provided,&nbsp;or&nbsp;not&nbsp;known&apos;))</p></div>\n",
       "        </body>\n",
       "        </html>"
      ],
      "text/plain": [
       "<IPython.core.display.HTML object>"
      ]
     },
     "metadata": {},
     "output_type": "display_data"
    }
   ],
   "source": [
    "%kql -conn=my_connection_str"
   ]
  },
  {
   "cell_type": "code",
   "execution_count": null,
   "metadata": {},
   "outputs": [],
   "source": []
  }
 ],
 "metadata": {
  "kernel_info": {
   "name": "python3"
  },
  "kernelspec": {
   "display_name": "Python 3 (ipykernel)",
   "language": "python",
   "name": "python3"
  },
  "language_info": {
   "codemirror_mode": {
    "name": "ipython",
    "version": 3
   },
   "file_extension": ".py",
   "mimetype": "text/x-python",
   "name": "python",
   "nbconvert_exporter": "python",
   "pygments_lexer": "ipython3",
   "version": "3.10.6"
  },
  "nteract": {
   "version": "0.15.0"
  }
 },
 "nbformat": 4,
 "nbformat_minor": 2
}
